{
 "cells": [
  {
   "cell_type": "code",
   "execution_count": 1,
   "id": "7f6be372",
   "metadata": {},
   "outputs": [
    {
     "name": "stdout",
     "output_type": "stream",
     "text": [
      " * Serving Flask app \"__main__\" (lazy loading)\n",
      " * Environment: production\n",
      "\u001b[31m   WARNING: This is a development server. Do not use it in a production deployment.\u001b[0m\n",
      "\u001b[2m   Use a production WSGI server instead.\u001b[0m\n",
      " * Debug mode: off\n"
     ]
    },
    {
     "name": "stderr",
     "output_type": "stream",
     "text": [
      " * Running on http://127.0.0.1:5000/ (Press CTRL+C to quit)\n",
      "127.0.0.1 - - [20/Sep/2023 13:59:46] \"GET / HTTP/1.1\" 200 -\n",
      "127.0.0.1 - - [20/Sep/2023 13:59:46] \"GET /static/css/normalize.css HTTP/1.1\" 404 -\n",
      "127.0.0.1 - - [20/Sep/2023 13:59:46] \"GET /static/css/grid.css HTTP/1.1\" 404 -\n",
      "127.0.0.1 - - [20/Sep/2023 13:59:46] \"GET /static/css/style.css HTTP/1.1\" 404 -\n",
      "127.0.0.1 - - [20/Sep/2023 13:59:46] \"GET /static/css/front.jpg HTTP/1.1\" 404 -\n"
     ]
    },
    {
     "name": "stdout",
     "output_type": "stream",
     "text": [
      "1/1 [==============================] - 0s 107ms/step\n"
     ]
    },
    {
     "name": "stderr",
     "output_type": "stream",
     "text": [
      "C:\\ProgramData\\Anaconda3\\lib\\site-packages\\PIL\\Image.py:945: UserWarning: Palette images with Transparency expressed in bytes should be converted to RGBA images\n",
      "  warnings.warn(\n"
     ]
    },
    {
     "name": "stdout",
     "output_type": "stream",
     "text": [
      "7\n",
      "1/1 [==============================] - 0s 19ms/step\n"
     ]
    },
    {
     "name": "stderr",
     "output_type": "stream",
     "text": [
      "127.0.0.1 - - [20/Sep/2023 13:59:53] \"POST /predict HTTP/1.1\" 200 -\n",
      "127.0.0.1 - - [20/Sep/2023 13:59:53] \"GET /static/css/normalize.css HTTP/1.1\" 404 -\n",
      "127.0.0.1 - - [20/Sep/2023 13:59:53] \"GET /static/css/grid.css HTTP/1.1\" 404 -\n",
      "127.0.0.1 - - [20/Sep/2023 13:59:53] \"GET /static/css/styleSucc.css HTTP/1.1\" 404 -\n",
      "127.0.0.1 - - [20/Sep/2023 14:05:13] \"GET / HTTP/1.1\" 200 -\n",
      "127.0.0.1 - - [20/Sep/2023 14:05:13] \"GET /static/css/normalize.css HTTP/1.1\" 404 -\n",
      "127.0.0.1 - - [20/Sep/2023 14:05:13] \"GET /static/css/grid.css HTTP/1.1\" 404 -\n",
      "127.0.0.1 - - [20/Sep/2023 14:05:13] \"GET /static/css/style.css HTTP/1.1\" 404 -\n",
      "127.0.0.1 - - [20/Sep/2023 14:05:13] \"GET /static/css/front.jpg HTTP/1.1\" 404 -\n"
     ]
    },
    {
     "name": "stdout",
     "output_type": "stream",
     "text": [
      "1/1 [==============================] - 0s 22ms/step\n",
      "3\n",
      "1/1 [==============================] - 0s 18ms/step\n"
     ]
    },
    {
     "name": "stderr",
     "output_type": "stream",
     "text": [
      "127.0.0.1 - - [20/Sep/2023 14:09:49] \"POST /predict HTTP/1.1\" 200 -\n",
      "127.0.0.1 - - [20/Sep/2023 14:09:49] \"GET /static/css/normalize.css HTTP/1.1\" 404 -\n",
      "127.0.0.1 - - [20/Sep/2023 14:09:50] \"GET /static/css/grid.css HTTP/1.1\" 404 -\n",
      "127.0.0.1 - - [20/Sep/2023 14:09:50] \"GET /static/css/styleSucc.css HTTP/1.1\" 404 -\n",
      "127.0.0.1 - - [20/Sep/2023 14:09:50] \"GET /static/images/Handwritten-digits-from-the-MNIST-data-set-5-For-practical-machine-learning-tasks.png HTTP/1.1\" 200 -\n",
      "127.0.0.1 - - [20/Sep/2023 14:11:16] \"GET / HTTP/1.1\" 200 -\n",
      "127.0.0.1 - - [20/Sep/2023 14:11:16] \"GET /static/css/normalize.css HTTP/1.1\" 404 -\n",
      "127.0.0.1 - - [20/Sep/2023 14:11:16] \"GET /static/css/grid.css HTTP/1.1\" 404 -\n",
      "127.0.0.1 - - [20/Sep/2023 14:11:16] \"GET /static/css/style.css HTTP/1.1\" 404 -\n",
      "127.0.0.1 - - [20/Sep/2023 14:11:16] \"GET /static/css/front.jpg HTTP/1.1\" 404 -\n"
     ]
    }
   ],
   "source": [
    "import os\n",
    "import uuid\n",
    "import flask\n",
    "import urllib\n",
    "import pickle,sklearn\n",
    "import numpy as np\n",
    "from PIL import Image\n",
    "from tensorflow.keras.models import load_model\n",
    "from flask import Flask , render_template  , request , send_file\n",
    "from tensorflow.keras.preprocessing.image import load_img , img_to_array\n",
    "\n",
    "\n",
    "app = Flask(__name__)\n",
    "\n",
    "BASE_DIR = os.path.dirname(os.path.abspath('handwrittendigits_cnn_model.h5'))\n",
    "model = load_model(os.path.join(BASE_DIR ,'handwrittendigits_cnn_model.h5'))\n",
    "\n",
    "\n",
    "ALLOWED_EXT = set(['jpg', 'JPG' , 'jpeg' , 'png' , 'jfif'])\n",
    "\n",
    "def allowed_file(filename):\n",
    "    return '.' in filename and \\\n",
    "           filename.rsplit('.', 1)[1] in ALLOWED_EXT\n",
    "\n",
    "classes = [0,1,2,3,4,5,6,7,8,9]\n",
    "\n",
    "\n",
    "def predict(filename , model):\n",
    "    img = load_img(filename ,color_mode='grayscale', target_size = (28 , 28))\n",
    "    img = img_to_array(img)\n",
    "    img = np.expand_dims(img, axis=0)\n",
    "    \n",
    "    # Image prediction\n",
    "    result = model.predict(img)\n",
    "    # Get the prediction\n",
    "    predictions = np.argmax(result)\n",
    "    \n",
    "    return(result, predictions)\n",
    "\n",
    "@app.route('/')\n",
    "def home():\n",
    "        return render_template(\"index.html\")\n",
    "\n",
    "@app.route('/predict' , methods = ['GET' , 'POST'])\n",
    "def Handwrittendigits():\n",
    "    error = ''\n",
    "    target_img = os.path.join(os.getcwd() , 'static\\\\images')\n",
    "    if request.method == 'POST':\n",
    "        if(request.form):\n",
    "            link = request.form.get('link')\n",
    "            try :\n",
    "                resource = urllib.request.urlopen(link)\n",
    "                unique_filename = str(uuid.uuid4())\n",
    "                filename = unique_filename+\".jpg\"\n",
    "                img_path = os.path.join(target_img , filename)\n",
    "                output = open(img_path , \"wb\")\n",
    "                output.write(resource.read())\n",
    "                output.close()\n",
    "                img = filename\n",
    "                result, predictions = predict(img_path , model)\n",
    "\n",
    "                class_result , prob_result = predict(img_path , model)\n",
    "\n",
    "                predictions = {\n",
    "                      \"class1\":class_result[0]                    \n",
    "                }\n",
    "\n",
    "            except Exception as e : \n",
    "                print(str(e))\n",
    "                error = 'This image from this site is not accesible or inappropriate input'\n",
    "\n",
    "            if(len(error) == 0):\n",
    "                return  render_template('body.html' , img  = img , predictions = predictions)\n",
    "            else:\n",
    "                return render_template('index.html' ,predictions=predictions, error = error) \n",
    "\n",
    "\n",
    "            \n",
    "        elif (request.files):\n",
    "            file = request.files['file']\n",
    "            if file and allowed_file(file.filename):\n",
    "                file.save(os.path.join(target_img , file.filename))\n",
    "                img_path = os.path.join(target_img , file.filename)\n",
    "                img = file.filename\n",
    "                result, predicted_class = predict(img_path , model)\n",
    "                print(predicted_class)\n",
    "\n",
    "                class_result , prob_result = predict(img_path , model)\n",
    "\n",
    "                predictions = {\n",
    "                      \"class1\":class_result[0]\n",
    "                }\n",
    "\n",
    "            else:\n",
    "                error = \"Please upload images of jpg , jpeg and png extension only\"\n",
    "\n",
    "            if(len(error) == 0):\n",
    "                return  render_template('body.html' , img  = img , predictions = predictions)\n",
    "           \n",
    "\n",
    "            \n",
    "            else:\n",
    "                return render_template('index.html' ,predictions=predictions, error = error)\n",
    "\n",
    "    else:\n",
    "        return render_template('index.html')\n",
    "\n",
    "if __name__ == \"__main__\":\n",
    "    app.run()"
   ]
  },
  {
   "cell_type": "code",
   "execution_count": null,
   "id": "87ac9315",
   "metadata": {},
   "outputs": [],
   "source": []
  }
 ],
 "metadata": {
  "kernelspec": {
   "display_name": "Python 3 (ipykernel)",
   "language": "python",
   "name": "python3"
  },
  "language_info": {
   "codemirror_mode": {
    "name": "ipython",
    "version": 3
   },
   "file_extension": ".py",
   "mimetype": "text/x-python",
   "name": "python",
   "nbconvert_exporter": "python",
   "pygments_lexer": "ipython3",
   "version": "3.9.12"
  }
 },
 "nbformat": 4,
 "nbformat_minor": 5
}
