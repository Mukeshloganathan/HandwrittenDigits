{
 "cells": [
  {
   "cell_type": "code",
   "execution_count": 1,
   "id": "d75a3018",
   "metadata": {},
   "outputs": [],
   "source": [
    "import numpy as np\n",
    "import pandas as pd\n",
    "import keras\n",
    "import tensorflow as tf\n",
    "import matplotlib.pyplot as plt"
   ]
  },
  {
   "cell_type": "code",
   "execution_count": 2,
   "id": "9d2d61d5",
   "metadata": {},
   "outputs": [],
   "source": [
    "from tensorflow.keras.datasets import mnist\n",
    "(xtrain, ytrain), (xtest, ytest) = mnist.load_data()"
   ]
  },
  {
   "cell_type": "code",
   "execution_count": 3,
   "id": "0c889e74",
   "metadata": {},
   "outputs": [
    {
     "data": {
      "text/plain": [
       "((60000, 28, 28), (10000, 28, 28))"
      ]
     },
     "execution_count": 3,
     "metadata": {},
     "output_type": "execute_result"
    }
   ],
   "source": [
    "xtrain.shape, xtest.shape"
   ]
  },
  {
   "cell_type": "code",
   "execution_count": 4,
   "id": "9e05e8da",
   "metadata": {},
   "outputs": [
    {
     "data": {
      "image/png": "[encoded data removed]",
      "text/plain": [
       "<Figure size 720x720 with 20 Axes>"
      ]
     },
     "metadata": {},
     "output_type": "display_data"
    }
   ],
   "source": [
    "fig = plt.figure(figsize=(10,10))\n",
    "\n",
    "for i in range(20):\n",
    "    plt.subplot(4,5, i+1, xticks=[], yticks=[])\n",
    "    plt.imshow(xtrain[i], cmap='cividis')"
   ]
  },
  {
   "cell_type": "code",
   "execution_count": 5,
   "id": "3432b2b9",
   "metadata": {},
   "outputs": [
    {
     "data": {
      "text/plain": [
       "9"
      ]
     },
     "execution_count": 5,
     "metadata": {},
     "output_type": "execute_result"
    }
   ],
   "source": [
    "ytrain[4]"
   ]
  },
  {
   "cell_type": "code",
   "execution_count": 6,
   "id": "0e078ec8",
   "metadata": {},
   "outputs": [],
   "source": [
    "xtrain = xtrain.astype('float32')/255\n",
    "xtest = xtest.astype('float32')/255"
   ]
  },
  {
   "cell_type": "code",
   "execution_count": 7,
   "id": "d19f89a9",
   "metadata": {},
   "outputs": [
    {
     "data": {
      "text/plain": [
       "(numpy.ndarray, numpy.ndarray)"
      ]
     },
     "execution_count": 7,
     "metadata": {},
     "output_type": "execute_result"
    }
   ],
   "source": [
    "type(ytrain), type(xtrain)"
   ]
  },
  {
   "cell_type": "code",
   "execution_count": 8,
   "id": "f66c9738",
   "metadata": {},
   "outputs": [
    {
     "data": {
      "text/plain": [
       "((60000, 28, 28), (60000,))"
      ]
     },
     "execution_count": 8,
     "metadata": {},
     "output_type": "execute_result"
    }
   ],
   "source": [
    "xtrain.shape, ytrain.shape"
   ]
  },
  {
   "cell_type": "code",
   "execution_count": 9,
   "id": "6babbf6a",
   "metadata": {},
   "outputs": [
    {
     "data": {
      "text/plain": [
       "array([0, 1, 2, 3, 4, 5, 6, 7, 8, 9], dtype=uint8)"
      ]
     },
     "execution_count": 9,
     "metadata": {},
     "output_type": "execute_result"
    }
   ],
   "source": [
    "labels = np.unique(ytrain)\n",
    "labels"
   ]
  },
  {
   "cell_type": "code",
   "execution_count": 10,
   "id": "9eda7e5e",
   "metadata": {},
   "outputs": [],
   "source": [
    "# one hot encoding\n",
    "num_classes = len(np.unique(ytrain))\n",
    "y_train = keras.utils.to_categorical(ytrain, num_classes)\n",
    "y_test = keras.utils.to_categorical(ytest, num_classes)"
   ]
  },
  {
   "cell_type": "code",
   "execution_count": 11,
   "id": "16c0c82d",
   "metadata": {},
   "outputs": [
    {
     "data": {
      "text/plain": [
       "((60000, 28, 28), (60000, 10))"
      ]
     },
     "execution_count": 11,
     "metadata": {},
     "output_type": "execute_result"
    }
   ],
   "source": [
    "xtrain.shape, y_train.shape"
   ]
  },
  {
   "cell_type": "markdown",
   "id": "6a161428",
   "metadata": {},
   "source": [
    "# Model Creation"
   ]
  },
  {
   "cell_type": "markdown",
   "id": "dbb78c61",
   "metadata": {},
   "source": [
    "### Convolutional Neural network"
   ]
  },
  {
   "cell_type": "code",
   "execution_count": 12,
   "id": "5fb6eb88",
   "metadata": {},
   "outputs": [],
   "source": [
    "# 5. Creating model architectire\n",
    "\n",
    "from keras.models import Sequential\n",
    "from keras.layers import Conv2D, MaxPooling2D, Flatten, Dense, Dropout"
   ]
  },
  {
   "cell_type": "code",
   "execution_count": 13,
   "id": "07c73bd2",
   "metadata": {},
   "outputs": [],
   "source": [
    "# Model creation\n",
    "cnn_model = Sequential()\n",
    "\n",
    "# Layer creation\n",
    "cnn_model.add(Conv2D(filters=16, kernel_size=3, padding='same', activation='relu', input_shape=(28,28,1)))\n",
    "cnn_model.add(MaxPooling2D(pool_size=2))\n",
    "\n",
    "cnn_model.add(Conv2D(filters=32, kernel_size=3, padding='same', activation='relu'))\n",
    "cnn_model.add(MaxPooling2D(pool_size=2))\n",
    "\n",
    "cnn_model.add(Conv2D(filters=64, kernel_size=3, padding='same', activation='relu'))\n",
    "cnn_model.add(MaxPooling2D(pool_size=2))\n",
    "\n",
    "cnn_model.add(Flatten())\n",
    "\n",
    "cnn_model.add(Dense(500, activation='relu'))\n",
    "cnn_model.add(Dropout(0.3))\n",
    "\n",
    "cnn_model.add(Dense(10, activation='softmax'))"
   ]
  },
  {
   "cell_type": "code",
   "execution_count": 14,
   "id": "e0db3c0e",
   "metadata": {},
   "outputs": [
    {
     "name": "stdout",
     "output_type": "stream",
     "text": [
      "Model: \"sequential\"\n",
      "_________________________________________________________________\n",
      " Layer (type)                Output Shape              Param #   \n",
      "=================================================================\n",
      " conv2d (Conv2D)             (None, 28, 28, 16)        160       \n",
      "                                                                 \n",
      " max_pooling2d (MaxPooling2D  (None, 14, 14, 16)       0         \n",
      " )                                                               \n",
      "                                                                 \n",
      " conv2d_1 (Conv2D)           (None, 14, 14, 32)        4640      \n",
      "                                                                 \n",
      " max_pooling2d_1 (MaxPooling  (None, 7, 7, 32)         0         \n",
      " 2D)                                                             \n",
      "                                                                 \n",
      " conv2d_2 (Conv2D)           (None, 7, 7, 64)          18496     \n",
      "                                                                 \n",
      " max_pooling2d_2 (MaxPooling  (None, 3, 3, 64)         0         \n",
      " 2D)                                                             \n",
      "                                                                 \n",
      " flatten (Flatten)           (None, 576)               0         \n",
      "                                                                 \n",
      " dense (Dense)               (None, 500)               288500    \n",
      "                                                                 \n",
      " dropout (Dropout)           (None, 500)               0         \n",
      "                                                                 \n",
      " dense_1 (Dense)             (None, 10)                5010      \n",
      "                                                                 \n",
      "=================================================================\n",
      "Total params: 316,806\n",
      "Trainable params: 316,806\n",
      "Non-trainable params: 0\n",
      "_________________________________________________________________\n"
     ]
    }
   ],
   "source": [
    "cnn_model.summary()"
   ]
  },
  {
   "cell_type": "code",
   "execution_count": 15,
   "id": "007b2998",
   "metadata": {},
   "outputs": [],
   "source": [
    "# Optimizer - weights & learning rate changes - to reduce loss\n",
    "cnn_model.compile(loss='categorical_crossentropy', optimizer = 'adam', metrics = ['accuracy'])"
   ]
  },
  {
   "cell_type": "code",
   "execution_count": 16,
   "id": "47d4a128",
   "metadata": {},
   "outputs": [],
   "source": [
    "# Checkpoint creation\n",
    "\n",
    "from keras.callbacks import ModelCheckpoint\n",
    "\n",
    "checkpoint = ModelCheckpoint(filepath = 'handwrittendigits_cnn_model.h5', verbose = 2, save_best_only=True)"
   ]
  },
  {
   "cell_type": "code",
   "execution_count": 17,
   "id": "8fed573e",
   "metadata": {},
   "outputs": [
    {
     "name": "stdout",
     "output_type": "stream",
     "text": [
      "Epoch 1/10\n",
      "\n",
      "Epoch 1: val_loss improved from inf to 0.05378, saving model to handwrittendigits_cnn_model.h5\n",
      "1500/1500 - 22s - loss: 0.1652 - accuracy: 0.9466 - val_loss: 0.0538 - val_accuracy: 0.9835 - 22s/epoch - 15ms/step\n",
      "Epoch 2/10\n",
      "\n",
      "Epoch 2: val_loss improved from 0.05378 to 0.05191, saving model to handwrittendigits_cnn_model.h5\n",
      "1500/1500 - 22s - loss: 0.0556 - accuracy: 0.9830 - val_loss: 0.0519 - val_accuracy: 0.9840 - 22s/epoch - 14ms/step\n",
      "Epoch 3/10\n",
      "\n",
      "Epoch 3: val_loss improved from 0.05191 to 0.04292, saving model to handwrittendigits_cnn_model.h5\n",
      "1500/1500 - 22s - loss: 0.0385 - accuracy: 0.9880 - val_loss: 0.0429 - val_accuracy: 0.9877 - 22s/epoch - 14ms/step\n",
      "Epoch 4/10\n",
      "\n",
      "Epoch 4: val_loss did not improve from 0.04292\n",
      "1500/1500 - 22s - loss: 0.0312 - accuracy: 0.9897 - val_loss: 0.0437 - val_accuracy: 0.9865 - 22s/epoch - 14ms/step\n",
      "Epoch 5/10\n",
      "\n",
      "Epoch 5: val_loss improved from 0.04292 to 0.04233, saving model to handwrittendigits_cnn_model.h5\n",
      "1500/1500 - 22s - loss: 0.0255 - accuracy: 0.9918 - val_loss: 0.0423 - val_accuracy: 0.9873 - 22s/epoch - 14ms/step\n",
      "Epoch 6/10\n",
      "\n",
      "Epoch 6: val_loss improved from 0.04233 to 0.03629, saving model to handwrittendigits_cnn_model.h5\n",
      "1500/1500 - 23s - loss: 0.0208 - accuracy: 0.9925 - val_loss: 0.0363 - val_accuracy: 0.9902 - 23s/epoch - 15ms/step\n",
      "Epoch 7/10\n",
      "\n",
      "Epoch 7: val_loss did not improve from 0.03629\n",
      "1500/1500 - 22s - loss: 0.0181 - accuracy: 0.9940 - val_loss: 0.0439 - val_accuracy: 0.9885 - 22s/epoch - 14ms/step\n",
      "Epoch 8/10\n",
      "\n",
      "Epoch 8: val_loss improved from 0.03629 to 0.03128, saving model to handwrittendigits_cnn_model.h5\n",
      "1500/1500 - 21s - loss: 0.0175 - accuracy: 0.9942 - val_loss: 0.0313 - val_accuracy: 0.9908 - 21s/epoch - 14ms/step\n",
      "Epoch 9/10\n",
      "\n",
      "Epoch 9: val_loss did not improve from 0.03128\n",
      "1500/1500 - 21s - loss: 0.0127 - accuracy: 0.9960 - val_loss: 0.0323 - val_accuracy: 0.9908 - 21s/epoch - 14ms/step\n",
      "Epoch 10/10\n",
      "\n",
      "Epoch 10: val_loss did not improve from 0.03128\n",
      "1500/1500 - 21s - loss: 0.0128 - accuracy: 0.9957 - val_loss: 0.0366 - val_accuracy: 0.9908 - 21s/epoch - 14ms/step\n"
     ]
    }
   ],
   "source": [
    "# 8. Training\n",
    "\n",
    "cnn_train = cnn_model.fit(xtrain, y_train, epochs=10, \n",
    "                  validation_split=0.2, \n",
    "                  batch_size=32,\n",
    "                  callbacks=[checkpoint],\n",
    "                  verbose = 2, shuffle=True)"
   ]
  },
  {
   "cell_type": "code",
   "execution_count": 18,
   "id": "4aba1bbb",
   "metadata": {},
   "outputs": [],
   "source": [
    "cnn_model.save('handwrittendigits_cnn_model.h5')"
   ]
  },
  {
   "cell_type": "markdown",
   "id": "cf289094",
   "metadata": {},
   "source": [
    "## Accuracy calculation"
   ]
  },
  {
   "cell_type": "code",
   "execution_count": 19,
   "id": "065440cd",
   "metadata": {},
   "outputs": [],
   "source": [
    "def acc_loss_calc(model, xtrain, xtest, y_train, y_test):\n",
    "    tr_score = model.evaluate(xtrain, y_train, verbose=0)\n",
    "    tt_score = model.evaluate(xtest, y_test, verbose=0)\n",
    "    return ('Train score : ', tr_score, 'Test score : ', tt_score)"
   ]
  },
  {
   "cell_type": "code",
   "execution_count": 20,
   "id": "a730b51b",
   "metadata": {},
   "outputs": [
    {
     "name": "stdout",
     "output_type": "stream",
     "text": [
      "('Train score : ', [0.011652999557554722, 0.9965833425521851], 'Test score : ', [0.03346743434667587, 0.9911999702453613])\n"
     ]
    }
   ],
   "source": [
    "print(acc_loss_calc(cnn_model, xtrain, xtest, y_train, y_test))"
   ]
  },
  {
   "cell_type": "code",
   "execution_count": 21,
   "id": "1d31a909",
   "metadata": {},
   "outputs": [
    {
     "data": {
      "image/png": "[encoded data removed]",
      "text/plain": [
       "<Figure size 432x288 with 1 Axes>"
      ]
     },
     "metadata": {
      "needs_background": "light"
     },
     "output_type": "display_data"
    }
   ],
   "source": [
    "plt.plot(cnn_train.history['loss'], label='train_loss')\n",
    "plt.plot(cnn_train.history['val_loss'], label='val_loss')\n",
    "plt.xlabel('Epoch')\n",
    "plt.ylabel('Loss Percentage')\n",
    "plt.legend()\n",
    "plt.show()"
   ]
  },
  {
   "cell_type": "code",
   "execution_count": 22,
   "id": "c6917f70",
   "metadata": {},
   "outputs": [
    {
     "data": {
      "image/png": "[encoded data removed]",
      "text/plain": [
       "<Figure size 432x288 with 1 Axes>"
      ]
     },
     "metadata": {
      "needs_background": "light"
     },
     "output_type": "display_data"
    }
   ],
   "source": [
    "plt.plot(cnn_train.history['accuracy'], label='train_accuracy')\n",
    "plt.plot(cnn_train.history['val_accuracy'], label='val_accuracy')\n",
    "plt.xlabel('Epoch')\n",
    "plt.ylabel('Accuracy Percentage')\n",
    "plt.legend()\n",
    "plt.show()"
   ]
  },
  {
   "cell_type": "markdown",
   "id": "f9f07678",
   "metadata": {},
   "source": [
    "## Image visualization"
   ]
  },
  {
   "cell_type": "code",
   "execution_count": 23,
   "id": "6be29449",
   "metadata": {},
   "outputs": [],
   "source": [
    "def img_visual(model, xtest, y_test):\n",
    "    ypred = model.predict(xtest)\n",
    "\n",
    "    fig = plt.figure(figsize=(20,10))\n",
    "\n",
    "    for i , idx in enumerate(np.random.choice(xtest.shape[0], size = 50, replace = True)):\n",
    "        plt.subplot(5,10, i+1, xticks=[], yticks=[])\n",
    "        plt.imshow(xtest[i], cmap='cividis')\n",
    "        pred_idx = np.argmax(ypred[i])\n",
    "        exp_idx = np.argmax(y_test[i])\n",
    "        plt.title('{} ({})'.format(labels[pred_idx], labels[exp_idx]), \n",
    "                     color=('blue' if pred_idx == exp_idx else 'red'))"
   ]
  },
  {
   "cell_type": "code",
   "execution_count": 24,
   "id": "fd6b67dd",
   "metadata": {},
   "outputs": [
    {
     "name": "stdout",
     "output_type": "stream",
     "text": [
      "313/313 [==============================] - 1s 4ms/step\n"
     ]
    },
    {
     "data": {
      "image/png": "[encoded data removed]",
      "text/plain": [
       "<Figure size 1440x720 with 50 Axes>"
      ]
     },
     "metadata": {},
     "output_type": "display_data"
    }
   ],
   "source": [
    "img_visual(cnn_model, xtest, y_test)"
   ]
  },
  {
   "cell_type": "markdown",
   "id": "693c7178",
   "metadata": {},
   "source": [
    "## Artificial Neural Network model"
   ]
  },
  {
   "cell_type": "code",
   "execution_count": 25,
   "id": "e59b4979",
   "metadata": {},
   "outputs": [],
   "source": [
    "# Model creation\n",
    "ann_model = Sequential()\n",
    "\n",
    "# Layer creation\n",
    "ann_model.add(Flatten(input_shape=(28,28,1)))\n",
    "\n",
    "ann_model.add(Dense(500, activation='relu'))\n",
    "ann_model.add(Dense(100, activation='relu'))\n",
    "ann_model.add(Dense(10, activation='softmax'))"
   ]
  },
  {
   "cell_type": "code",
   "execution_count": 26,
   "id": "2e1f7a57",
   "metadata": {},
   "outputs": [
    {
     "name": "stdout",
     "output_type": "stream",
     "text": [
      "Model: \"sequential_1\"\n",
      "_________________________________________________________________\n",
      " Layer (type)                Output Shape              Param #   \n",
      "=================================================================\n",
      " flatten_1 (Flatten)         (None, 784)               0         \n",
      "                                                                 \n",
      " dense_2 (Dense)             (None, 500)               392500    \n",
      "                                                                 \n",
      " dense_3 (Dense)             (None, 100)               50100     \n",
      "                                                                 \n",
      " dense_4 (Dense)             (None, 10)                1010      \n",
      "                                                                 \n",
      "=================================================================\n",
      "Total params: 443,610\n",
      "Trainable params: 443,610\n",
      "Non-trainable params: 0\n",
      "_________________________________________________________________\n"
     ]
    }
   ],
   "source": [
    "ann_model.summary()"
   ]
  },
  {
   "cell_type": "code",
   "execution_count": 27,
   "id": "238ea414",
   "metadata": {},
   "outputs": [],
   "source": [
    "# Optimizer - weights & learning rate changes - to reduce loss\n",
    "ann_model.compile(loss='categorical_crossentropy', optimizer = 'adam', metrics = ['accuracy'])"
   ]
  },
  {
   "cell_type": "code",
   "execution_count": 28,
   "id": "e55b64e1",
   "metadata": {},
   "outputs": [],
   "source": [
    "# Checkpoint creation\n",
    "\n",
    "from keras.callbacks import ModelCheckpoint\n",
    "\n",
    "checkpoint = ModelCheckpoint(filepath = 'handwrittendigits_ann_model.h5', verbose = 2, save_best_only=True)"
   ]
  },
  {
   "cell_type": "code",
   "execution_count": 29,
   "id": "c2b9c717",
   "metadata": {},
   "outputs": [
    {
     "name": "stdout",
     "output_type": "stream",
     "text": [
      "Epoch 1/10\n",
      "\n",
      "Epoch 1: val_loss improved from inf to 0.11214, saving model to handwrittendigits_ann_model.h5\n",
      "1500/1500 - 9s - loss: 0.2147 - accuracy: 0.9362 - val_loss: 0.1121 - val_accuracy: 0.9659 - 9s/epoch - 6ms/step\n",
      "Epoch 2/10\n",
      "\n",
      "Epoch 2: val_loss improved from 0.11214 to 0.09390, saving model to handwrittendigits_ann_model.h5\n",
      "1500/1500 - 9s - loss: 0.0881 - accuracy: 0.9725 - val_loss: 0.0939 - val_accuracy: 0.9724 - 9s/epoch - 6ms/step\n",
      "Epoch 3/10\n",
      "\n",
      "Epoch 3: val_loss improved from 0.09390 to 0.08554, saving model to handwrittendigits_ann_model.h5\n",
      "1500/1500 - 9s - loss: 0.0593 - accuracy: 0.9810 - val_loss: 0.0855 - val_accuracy: 0.9751 - 9s/epoch - 6ms/step\n",
      "Epoch 4/10\n",
      "\n",
      "Epoch 4: val_loss did not improve from 0.08554\n",
      "1500/1500 - 9s - loss: 0.0416 - accuracy: 0.9863 - val_loss: 0.1266 - val_accuracy: 0.9667 - 9s/epoch - 6ms/step\n",
      "Epoch 5/10\n",
      "\n",
      "Epoch 5: val_loss improved from 0.08554 to 0.08465, saving model to handwrittendigits_ann_model.h5\n",
      "1500/1500 - 9s - loss: 0.0336 - accuracy: 0.9895 - val_loss: 0.0846 - val_accuracy: 0.9766 - 9s/epoch - 6ms/step\n",
      "Epoch 6/10\n",
      "\n",
      "Epoch 6: val_loss did not improve from 0.08465\n",
      "1500/1500 - 9s - loss: 0.0271 - accuracy: 0.9914 - val_loss: 0.1053 - val_accuracy: 0.9746 - 9s/epoch - 6ms/step\n",
      "Epoch 7/10\n",
      "\n",
      "Epoch 7: val_loss did not improve from 0.08465\n",
      "1500/1500 - 9s - loss: 0.0228 - accuracy: 0.9919 - val_loss: 0.0950 - val_accuracy: 0.9780 - 9s/epoch - 6ms/step\n",
      "Epoch 8/10\n",
      "\n",
      "Epoch 8: val_loss did not improve from 0.08465\n",
      "1500/1500 - 9s - loss: 0.0193 - accuracy: 0.9935 - val_loss: 0.0920 - val_accuracy: 0.9793 - 9s/epoch - 6ms/step\n",
      "Epoch 9/10\n",
      "\n",
      "Epoch 9: val_loss did not improve from 0.08465\n",
      "1500/1500 - 9s - loss: 0.0178 - accuracy: 0.9938 - val_loss: 0.1098 - val_accuracy: 0.9778 - 9s/epoch - 6ms/step\n",
      "Epoch 10/10\n",
      "\n",
      "Epoch 10: val_loss did not improve from 0.08465\n",
      "1500/1500 - 9s - loss: 0.0165 - accuracy: 0.9944 - val_loss: 0.0993 - val_accuracy: 0.9799 - 9s/epoch - 6ms/step\n"
     ]
    }
   ],
   "source": [
    "# 8. Training\n",
    "\n",
    "ann_train = ann_model.fit(xtrain, y_train, epochs=10, \n",
    "                  validation_split=0.2, \n",
    "                  batch_size=32,\n",
    "                  callbacks=[checkpoint],\n",
    "                  verbose = 2, shuffle=True)"
   ]
  },
  {
   "cell_type": "code",
   "execution_count": 30,
   "id": "cc8645e8",
   "metadata": {},
   "outputs": [],
   "source": [
    "ann_model.save('handwrittendigits_ann_model.h5')"
   ]
  },
  {
   "cell_type": "code",
   "execution_count": 31,
   "id": "87c2fc02",
   "metadata": {},
   "outputs": [
    {
     "name": "stdout",
     "output_type": "stream",
     "text": [
      "('Train score : ', [0.025412213057279587, 0.9941499829292297], 'Test score : ', [0.0866737961769104, 0.9801999926567078])\n"
     ]
    }
   ],
   "source": [
    "print(acc_loss_calc(ann_model, xtrain, xtest, y_train, y_test))"
   ]
  },
  {
   "cell_type": "code",
   "execution_count": 32,
   "id": "c7822025",
   "metadata": {},
   "outputs": [
    {
     "data": {
      "image/png": "[encoded data removed]",
      "text/plain": [
       "<Figure size 432x288 with 1 Axes>"
      ]
     },
     "metadata": {
      "needs_background": "light"
     },
     "output_type": "display_data"
    }
   ],
   "source": [
    "plt.plot(ann_train.history['loss'], label='train_loss')\n",
    "plt.plot(ann_train.history['val_loss'], label='val_loss')\n",
    "plt.xlabel('Epoch')\n",
    "plt.ylabel('Loss Percentage')\n",
    "plt.show()"
   ]
  },
  {
   "cell_type": "code",
   "execution_count": 33,
   "id": "2430d31e",
   "metadata": {},
   "outputs": [
    {
     "data": {
      "image/png": "[encoded data removed]",
      "text/plain": [
       "<Figure size 432x288 with 1 Axes>"
      ]
     },
     "metadata": {
      "needs_background": "light"
     },
     "output_type": "display_data"
    }
   ],
   "source": [
    "plt.plot(cnn_train.history['accuracy'], label='train_accuracy')\n",
    "plt.plot(cnn_train.history['val_accuracy'], label='val_accuracy')\n",
    "plt.xlabel('Epoch')\n",
    "plt.ylabel('Accuracy Percentage')\n",
    "plt.show()"
   ]
  },
  {
   "cell_type": "code",
   "execution_count": 34,
   "id": "86c70182",
   "metadata": {},
   "outputs": [
    {
     "name": "stdout",
     "output_type": "stream",
     "text": [
      "313/313 [==============================] - 1s 2ms/step\n"
     ]
    },
    {
     "data": {
      "image/png": "[encoded data removed]",
      "text/plain": [
       "<Figure size 1440x720 with 50 Axes>"
      ]
     },
     "metadata": {},
     "output_type": "display_data"
    }
   ],
   "source": [
    "img_visual(ann_model, xtest, y_test)"
   ]
  },
  {
   "cell_type": "markdown",
   "id": "6978aebf",
   "metadata": {},
   "source": [
    "## K-Nearest Neighbour Model"
   ]
  },
  {
   "cell_type": "code",
   "execution_count": 35,
   "id": "e37d769e",
   "metadata": {},
   "outputs": [],
   "source": [
    "from sklearn.neighbors import KNeighborsClassifier"
   ]
  },
  {
   "cell_type": "code",
   "execution_count": 83,
   "id": "8f030bbe",
   "metadata": {},
   "outputs": [],
   "source": [
    "x_train = xtrain.reshape(60000, 784)\n",
    "x_test = xtest.reshape(10000, 784)\n",
    "\n",
    "from sklearn.datasets import fetch_openml\n",
    "from sklearn.model_selection import train_test_split\n",
    "\n",
    "# Load the MNIST dataset\n",
    "mnist = fetch_openml('mnist_784')\n",
    "\n",
    "# Split the dataset into training and test sets\n",
    "xtrain_knn, xtest_knn, ytrain_knn, ytest_knn = train_test_split(mnist['data'], mnist['target'], test_size=0.3)\n",
    "\n",
    "# Preprocess the data\n",
    "#xtrain_knn = xtrain_knn.astype('float32') / 255.0\n",
    "#xtest_knn = xtest_knn.astype('float32') / 255.0"
   ]
  },
  {
   "cell_type": "code",
   "execution_count": 46,
   "id": "5ee7ac70",
   "metadata": {},
   "outputs": [],
   "source": [
    "from sklearn.preprocessing import StandardScaler"
   ]
  },
  {
   "cell_type": "code",
   "execution_count": 47,
   "id": "254c3683",
   "metadata": {},
   "outputs": [],
   "source": [
    "scaler=StandardScaler()"
   ]
  },
  {
   "cell_type": "code",
   "execution_count": 54,
   "id": "b56e2f35",
   "metadata": {},
   "outputs": [],
   "source": [
    "scaled_data = scaler.fit_transform(mnist['data'])"
   ]
  },
  {
   "cell_type": "code",
   "execution_count": 55,
   "id": "170b61e5",
   "metadata": {},
   "outputs": [],
   "source": [
    "xtrain_knn, xtest_knn, ytrain_knn, ytest_knn = train_test_split(mnist['data'], mnist['target'], test_size=0.3)"
   ]
  },
  {
   "cell_type": "code",
   "execution_count": 56,
   "id": "bc42ff5f",
   "metadata": {},
   "outputs": [],
   "source": [
    "knn=KNeighborsClassifier(n_neighbors=1)"
   ]
  },
  {
   "cell_type": "code",
   "execution_count": 57,
   "id": "2044f911",
   "metadata": {},
   "outputs": [
    {
     "data": {
      "text/plain": [
       "KNeighborsClassifier(n_neighbors=1)"
      ]
     },
     "execution_count": 57,
     "metadata": {},
     "output_type": "execute_result"
    }
   ],
   "source": [
    "knn.fit(xtrain_knn,ytrain_knn)"
   ]
  },
  {
   "cell_type": "code",
   "execution_count": 59,
   "id": "bbd2392b",
   "metadata": {},
   "outputs": [],
   "source": [
    "pred=knn.predict(xtest_knn)"
   ]
  },
  {
   "cell_type": "code",
   "execution_count": 77,
   "id": "94efab37",
   "metadata": {},
   "outputs": [],
   "source": [
    "from sklearn.metrics import classification_report,confusion_matrix,accuracy_score"
   ]
  },
  {
   "cell_type": "code",
   "execution_count": 61,
   "id": "653f5cab",
   "metadata": {},
   "outputs": [
    {
     "name": "stdout",
     "output_type": "stream",
     "text": [
      "[[2050    3    3    1    0    2    8    2    1    1]\n",
      " [   0 2398    4    1    0    0    1    8    2    2]\n",
      " [  11   13 2007   13    0    1    3   18    4    2]\n",
      " [   1    4   11 2084    0   29    1   11   16    8]\n",
      " [   1   15    1    0 1915    0    9    7    1   52]\n",
      " [   8    3    0   23    3 1847   22    2    3   10]\n",
      " [  13    4    2    0    2    7 2039    0    4    1]\n",
      " [   0   16    5    2    5    0    0 2146    0   16]\n",
      " [  10   13   10   34    9   31    7    3 1879   21]\n",
      " [   9    1    1   10   27    5    0   24    3 1995]]\n"
     ]
    }
   ],
   "source": [
    "print(confusion_matrix(ytest_knn,pred))"
   ]
  },
  {
   "cell_type": "code",
   "execution_count": 90,
   "id": "ebd52d36",
   "metadata": {},
   "outputs": [
    {
     "name": "stdout",
     "output_type": "stream",
     "text": [
      "              precision    recall  f1-score   support\n",
      "\n",
      "           0       0.10      0.10      0.10      2082\n",
      "           1       0.11      0.12      0.11      2343\n",
      "           2       0.09      0.09      0.09      2127\n",
      "           3       0.10      0.10      0.10      2180\n",
      "           4       0.09      0.09      0.09      2034\n",
      "           5       0.09      0.09      0.09      1862\n",
      "           6       0.10      0.10      0.10      2081\n",
      "           7       0.11      0.11      0.11      2182\n",
      "           8       0.10      0.09      0.09      2030\n",
      "           9       0.10      0.10      0.10      2079\n",
      "\n",
      "    accuracy                           0.10     21000\n",
      "   macro avg       0.10      0.10      0.10     21000\n",
      "weighted avg       0.10      0.10      0.10     21000\n",
      "\n"
     ]
    }
   ],
   "source": [
    "print(classification_report(ytest_knn,pred))"
   ]
  },
  {
   "cell_type": "code",
   "execution_count": 79,
   "id": "94978984",
   "metadata": {},
   "outputs": [
    {
     "name": "stdout",
     "output_type": "stream",
     "text": [
      "0.9709047619047619\n"
     ]
    }
   ],
   "source": [
    "print(accuracy_score(ytest_knn,pred))"
   ]
  },
  {
   "cell_type": "code",
   "execution_count": 67,
   "id": "cad9e490",
   "metadata": {},
   "outputs": [],
   "source": [
    "error_rate=[]\n",
    "\n",
    "for i in range(1,5):\n",
    "    knn=KNeighborsClassifier(n_neighbors=i)\n",
    "    knn.fit(xtrain_knn,ytrain_knn)\n",
    "    pred_i=knn.predict(xtest_knn)\n",
    "    error_rate.append(np.mean(pred_i !=ytest_knn))"
   ]
  },
  {
   "cell_type": "code",
   "execution_count": 71,
   "id": "602231b0",
   "metadata": {},
   "outputs": [
    {
     "data": {
      "text/plain": [
       "Text(0, 0.5, 'Error Rate')"
      ]
     },
     "execution_count": 71,
     "metadata": {},
     "output_type": "execute_result"
    },
    {
     "data": {
      "image/png": "[encoded data removed]",
      "text/plain": [
       "<Figure size 720x432 with 1 Axes>"
      ]
     },
     "metadata": {
      "needs_background": "light"
     },
     "output_type": "display_data"
    }
   ],
   "source": [
    "plt.figure(figsize=(10,6))\n",
    "plt.plot(range(1,5),error_rate,color='blue',linestyle='dashed',marker='o',\n",
    "           markerfacecolor='red',markersize=10)\n",
    "plt.title('Error Rate VS K Value')\n",
    "plt.xlabel('K')\n",
    "plt.ylabel('Error Rate')"
   ]
  },
  {
   "cell_type": "code",
   "execution_count": 72,
   "id": "684c29ae",
   "metadata": {},
   "outputs": [],
   "source": [
    "knn1=KNeighborsClassifier(n_neighbors=3)"
   ]
  },
  {
   "cell_type": "code",
   "execution_count": 73,
   "id": "740d5518",
   "metadata": {},
   "outputs": [
    {
     "data": {
      "text/plain": [
       "KNeighborsClassifier(n_neighbors=3)"
      ]
     },
     "execution_count": 73,
     "metadata": {},
     "output_type": "execute_result"
    }
   ],
   "source": [
    "knn1.fit(xtrain_knn,ytrain_knn)"
   ]
  },
  {
   "cell_type": "code",
   "execution_count": 74,
   "id": "b5a760ce",
   "metadata": {},
   "outputs": [],
   "source": [
    "pred=knn1.predict(xtest_knn)"
   ]
  },
  {
   "cell_type": "code",
   "execution_count": 92,
   "id": "590337d4",
   "metadata": {},
   "outputs": [
    {
     "name": "stdout",
     "output_type": "stream",
     "text": [
      "[[204 267 197 214 193 200 226 194 189 198]\n",
      " [230 272 227 264 212 235 238 218 208 239]\n",
      " [208 268 191 205 206 198 204 225 201 221]\n",
      " [192 270 208 208 219 216 208 224 203 232]\n",
      " [211 258 201 212 177 182 192 209 190 202]\n",
      " [184 206 194 198 177 174 176 232 147 174]\n",
      " [224 250 199 210 196 172 213 212 196 209]\n",
      " [219 259 220 234 198 202 227 235 175 213]\n",
      " [221 222 207 219 190 160 210 218 183 200]\n",
      " [210 228 195 222 209 168 195 243 202 207]]\n"
     ]
    }
   ],
   "source": [
    "print(confusion_matrix(ytest_knn,pred))"
   ]
  },
  {
   "cell_type": "code",
   "execution_count": 75,
   "id": "f300ff96",
   "metadata": {},
   "outputs": [
    {
     "name": "stdout",
     "output_type": "stream",
     "text": [
      "              precision    recall  f1-score   support\n",
      "\n",
      "           0       0.98      0.99      0.98      2071\n",
      "           1       0.96      1.00      0.98      2416\n",
      "           2       0.98      0.97      0.98      2072\n",
      "           3       0.96      0.97      0.97      2165\n",
      "           4       0.98      0.96      0.97      2001\n",
      "           5       0.97      0.96      0.97      1921\n",
      "           6       0.98      0.99      0.98      2072\n",
      "           7       0.97      0.98      0.97      2190\n",
      "           8       0.99      0.93      0.96      2017\n",
      "           9       0.95      0.96      0.96      2075\n",
      "\n",
      "    accuracy                           0.97     21000\n",
      "   macro avg       0.97      0.97      0.97     21000\n",
      "weighted avg       0.97      0.97      0.97     21000\n",
      "\n"
     ]
    }
   ],
   "source": [
    "print(classification_report(ytest_knn,pred))"
   ]
  },
  {
   "cell_type": "code",
   "execution_count": 80,
   "id": "5f12cff4",
   "metadata": {},
   "outputs": [
    {
     "name": "stdout",
     "output_type": "stream",
     "text": [
      "0.9709047619047619\n"
     ]
    }
   ],
   "source": [
    "print(accuracy_score(ytest_knn,pred))"
   ]
  },
  {
   "cell_type": "markdown",
   "id": "0eed1126",
   "metadata": {},
   "source": [
    "## Support Vector Machine model"
   ]
  },
  {
   "cell_type": "code",
   "execution_count": 94,
   "id": "f3720ea9",
   "metadata": {},
   "outputs": [],
   "source": [
    "from sklearn.svm import SVC\n",
    "from sklearn.metrics import confusion_matrix, classification_report,accuracy_score"
   ]
  },
  {
   "cell_type": "code",
   "execution_count": 84,
   "id": "0f7d203c",
   "metadata": {},
   "outputs": [
    {
     "name": "stdout",
     "output_type": "stream",
     "text": [
      "[LibSVM]"
     ]
    },
    {
     "data": {
      "text/plain": [
       "SVC(verbose=2)"
      ]
     },
     "execution_count": 84,
     "metadata": {},
     "output_type": "execute_result"
    }
   ],
   "source": [
    "svc_model = SVC(verbose=2)\n",
    "svc_model.fit(xtrain_knn, ytrain_knn)"
   ]
  },
  {
   "cell_type": "code",
   "execution_count": 85,
   "id": "2ce70d61",
   "metadata": {},
   "outputs": [],
   "source": [
    "svc_pred = svc_model.predict(xtest_knn)"
   ]
  },
  {
   "cell_type": "code",
   "execution_count": 86,
   "id": "274babf1",
   "metadata": {},
   "outputs": [
    {
     "data": {
      "text/html": [
       "<div>\n",
       "<style scoped>\n",
       "    .dataframe tbody tr th:only-of-type {\n",
       "        vertical-align: middle;\n",
       "    }\n",
       "\n",
       "    .dataframe tbody tr th {\n",
       "        vertical-align: top;\n",
       "    }\n",
       "\n",
       "    .dataframe thead th {\n",
       "        text-align: right;\n",
       "    }\n",
       "</style>\n",
       "<table border=\"1\" class=\"dataframe\">\n",
       "  <thead>\n",
       "    <tr style=\"text-align: right;\">\n",
       "      <th>col_0</th>\n",
       "      <th>0</th>\n",
       "      <th>1</th>\n",
       "      <th>2</th>\n",
       "      <th>3</th>\n",
       "      <th>4</th>\n",
       "      <th>5</th>\n",
       "      <th>6</th>\n",
       "      <th>7</th>\n",
       "      <th>8</th>\n",
       "      <th>9</th>\n",
       "    </tr>\n",
       "    <tr>\n",
       "      <th>class</th>\n",
       "      <th></th>\n",
       "      <th></th>\n",
       "      <th></th>\n",
       "      <th></th>\n",
       "      <th></th>\n",
       "      <th></th>\n",
       "      <th></th>\n",
       "      <th></th>\n",
       "      <th></th>\n",
       "      <th></th>\n",
       "    </tr>\n",
       "  </thead>\n",
       "  <tbody>\n",
       "    <tr>\n",
       "      <th>0</th>\n",
       "      <td>2064</td>\n",
       "      <td>1</td>\n",
       "      <td>1</td>\n",
       "      <td>0</td>\n",
       "      <td>1</td>\n",
       "      <td>3</td>\n",
       "      <td>6</td>\n",
       "      <td>1</td>\n",
       "      <td>4</td>\n",
       "      <td>1</td>\n",
       "    </tr>\n",
       "    <tr>\n",
       "      <th>1</th>\n",
       "      <td>1</td>\n",
       "      <td>2316</td>\n",
       "      <td>12</td>\n",
       "      <td>3</td>\n",
       "      <td>1</td>\n",
       "      <td>0</td>\n",
       "      <td>2</td>\n",
       "      <td>3</td>\n",
       "      <td>2</td>\n",
       "      <td>3</td>\n",
       "    </tr>\n",
       "    <tr>\n",
       "      <th>2</th>\n",
       "      <td>4</td>\n",
       "      <td>2</td>\n",
       "      <td>2091</td>\n",
       "      <td>4</td>\n",
       "      <td>7</td>\n",
       "      <td>0</td>\n",
       "      <td>3</td>\n",
       "      <td>11</td>\n",
       "      <td>5</td>\n",
       "      <td>0</td>\n",
       "    </tr>\n",
       "    <tr>\n",
       "      <th>3</th>\n",
       "      <td>0</td>\n",
       "      <td>3</td>\n",
       "      <td>16</td>\n",
       "      <td>2117</td>\n",
       "      <td>0</td>\n",
       "      <td>18</td>\n",
       "      <td>0</td>\n",
       "      <td>6</td>\n",
       "      <td>14</td>\n",
       "      <td>6</td>\n",
       "    </tr>\n",
       "    <tr>\n",
       "      <th>4</th>\n",
       "      <td>2</td>\n",
       "      <td>1</td>\n",
       "      <td>4</td>\n",
       "      <td>0</td>\n",
       "      <td>1998</td>\n",
       "      <td>0</td>\n",
       "      <td>7</td>\n",
       "      <td>3</td>\n",
       "      <td>3</td>\n",
       "      <td>16</td>\n",
       "    </tr>\n",
       "    <tr>\n",
       "      <th>5</th>\n",
       "      <td>6</td>\n",
       "      <td>1</td>\n",
       "      <td>3</td>\n",
       "      <td>6</td>\n",
       "      <td>4</td>\n",
       "      <td>1819</td>\n",
       "      <td>15</td>\n",
       "      <td>0</td>\n",
       "      <td>7</td>\n",
       "      <td>1</td>\n",
       "    </tr>\n",
       "    <tr>\n",
       "      <th>6</th>\n",
       "      <td>6</td>\n",
       "      <td>0</td>\n",
       "      <td>2</td>\n",
       "      <td>0</td>\n",
       "      <td>4</td>\n",
       "      <td>6</td>\n",
       "      <td>2059</td>\n",
       "      <td>0</td>\n",
       "      <td>4</td>\n",
       "      <td>0</td>\n",
       "    </tr>\n",
       "    <tr>\n",
       "      <th>7</th>\n",
       "      <td>5</td>\n",
       "      <td>11</td>\n",
       "      <td>6</td>\n",
       "      <td>3</td>\n",
       "      <td>11</td>\n",
       "      <td>0</td>\n",
       "      <td>0</td>\n",
       "      <td>2132</td>\n",
       "      <td>1</td>\n",
       "      <td>13</td>\n",
       "    </tr>\n",
       "    <tr>\n",
       "      <th>8</th>\n",
       "      <td>2</td>\n",
       "      <td>10</td>\n",
       "      <td>10</td>\n",
       "      <td>13</td>\n",
       "      <td>2</td>\n",
       "      <td>9</td>\n",
       "      <td>5</td>\n",
       "      <td>3</td>\n",
       "      <td>1967</td>\n",
       "      <td>9</td>\n",
       "    </tr>\n",
       "    <tr>\n",
       "      <th>9</th>\n",
       "      <td>6</td>\n",
       "      <td>3</td>\n",
       "      <td>1</td>\n",
       "      <td>14</td>\n",
       "      <td>19</td>\n",
       "      <td>4</td>\n",
       "      <td>2</td>\n",
       "      <td>23</td>\n",
       "      <td>9</td>\n",
       "      <td>1998</td>\n",
       "    </tr>\n",
       "  </tbody>\n",
       "</table>\n",
       "</div>"
      ],
      "text/plain": [
       "col_0     0     1     2     3     4     5     6     7     8     9\n",
       "class                                                            \n",
       "0      2064     1     1     0     1     3     6     1     4     1\n",
       "1         1  2316    12     3     1     0     2     3     2     3\n",
       "2         4     2  2091     4     7     0     3    11     5     0\n",
       "3         0     3    16  2117     0    18     0     6    14     6\n",
       "4         2     1     4     0  1998     0     7     3     3    16\n",
       "5         6     1     3     6     4  1819    15     0     7     1\n",
       "6         6     0     2     0     4     6  2059     0     4     0\n",
       "7         5    11     6     3    11     0     0  2132     1    13\n",
       "8         2    10    10    13     2     9     5     3  1967     9\n",
       "9         6     3     1    14    19     4     2    23     9  1998"
      ]
     },
     "execution_count": 86,
     "metadata": {},
     "output_type": "execute_result"
    }
   ],
   "source": [
    "pd.crosstab(ytest_knn, svc_pred)"
   ]
  },
  {
   "cell_type": "code",
   "execution_count": 96,
   "id": "759062ac",
   "metadata": {},
   "outputs": [
    {
     "name": "stdout",
     "output_type": "stream",
     "text": [
      "              precision    recall  f1-score   support\n",
      "\n",
      "           0       0.98      0.99      0.99      2082\n",
      "           1       0.99      0.99      0.99      2343\n",
      "           2       0.97      0.98      0.98      2127\n",
      "           3       0.98      0.97      0.98      2180\n",
      "           4       0.98      0.98      0.98      2034\n",
      "           5       0.98      0.98      0.98      1862\n",
      "           6       0.98      0.99      0.99      2081\n",
      "           7       0.98      0.98      0.98      2182\n",
      "           8       0.98      0.97      0.97      2030\n",
      "           9       0.98      0.96      0.97      2079\n",
      "\n",
      "    accuracy                           0.98     21000\n",
      "   macro avg       0.98      0.98      0.98     21000\n",
      "weighted avg       0.98      0.98      0.98     21000\n",
      "\n"
     ]
    }
   ],
   "source": [
    "print(classification_report(ytest_knn, svc_pred))"
   ]
  },
  {
   "cell_type": "code",
   "execution_count": null,
   "id": "eb672769",
   "metadata": {},
   "outputs": [],
   "source": []
  }
 ],
 "metadata": {
  "kernelspec": {
   "display_name": "Python 3 (ipykernel)",
   "language": "python",
   "name": "python3"
  },
  "language_info": {
   "codemirror_mode": {
    "name": "ipython",
    "version": 3
   },
   "file_extension": ".py",
   "mimetype": "text/x-python",
   "name": "python",
   "nbconvert_exporter": "python",
   "pygments_lexer": "ipython3",
   "version": "3.9.12"
  }
 },
 "nbformat": 4,
 "nbformat_minor": 5
}
