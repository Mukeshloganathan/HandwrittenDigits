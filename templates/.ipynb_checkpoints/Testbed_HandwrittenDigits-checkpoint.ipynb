{
 "cells": [
  {
   "cell_type": "code",
   "execution_count": 1,
   "id": "d75a3018",
   "metadata": {},
   "outputs": [],
   "source": [
    "import numpy as np\n",
    "import pandas as pd\n",
    "import keras\n",
    "import tensorflow as tf\n",
    "import matplotlib.pyplot as plt"
   ]
  },
  {
   "cell_type": "code",
   "execution_count": 2,
   "id": "9d2d61d5",
   "metadata": {},
   "outputs": [],
   "source": [
    "from tensorflow.keras.datasets import mnist\n",
    "(xtrain, ytrain), (xtest, ytest) = mnist.load_data()"
   ]
  },
  {
   "cell_type": "code",
   "execution_count": 3,
   "id": "0c889e74",
   "metadata": {},
   "outputs": [
    {
     "data": {
      "text/plain": [
       "((60000, 28, 28), (10000, 28, 28))"
      ]
     },
     "execution_count": 3,
     "metadata": {},
     "output_type": "execute_result"
    }
   ],
   "source": [
    "xtrain.shape, xtest.shape"
   ]
  },
  {
   "cell_type": "code",
   "execution_count": 4,
   "id": "9e05e8da",
   "metadata": {},
   "outputs": [
    {
     "data": {
      "image/png": "[encoded data removed]",
      "text/plain": [
       "<Figure size 720x720 with 20 Axes>"
      ]
     },
     "metadata": {},
     "output_type": "display_data"
    }
   ],
   "source": [
    "fig = plt.figure(figsize=(10,10))\n",
    "\n",
    "for i in range(20):\n",
    "    plt.subplot(4,5, i+1, xticks=[], yticks=[])\n",
    "    plt.imshow(xtrain[i], cmap='cividis')"
   ]
  },
  {
   "cell_type": "code",
   "execution_count": 5,
   "id": "3432b2b9",
   "metadata": {},
   "outputs": [
    {
     "data": {
      "text/plain": [
       "9"
      ]
     },
     "execution_count": 5,
     "metadata": {},
     "output_type": "execute_result"
    }
   ],
   "source": [
    "ytrain[4]"
   ]
  },
  {
   "cell_type": "code",
   "execution_count": 6,
   "id": "0e078ec8",
   "metadata": {},
   "outputs": [],
   "source": [
    "xtrain = xtrain.astype('float32')/255\n",
    "xtest = xtest.astype('float32')/255"
   ]
  },
  {
   "cell_type": "code",
   "execution_count": 7,
   "id": "d19f89a9",
   "metadata": {},
   "outputs": [
    {
     "data": {
      "text/plain": [
       "(numpy.ndarray, numpy.ndarray)"
      ]
     },
     "execution_count": 7,
     "metadata": {},
     "output_type": "execute_result"
    }
   ],
   "source": [
    "type(ytrain), type(xtrain)"
   ]
  },
  {
   "cell_type": "code",
   "execution_count": 8,
   "id": "f66c9738",
   "metadata": {},
   "outputs": [
    {
     "data": {
      "text/plain": [
       "((60000, 28, 28), (60000,))"
      ]
     },
     "execution_count": 8,
     "metadata": {},
     "output_type": "execute_result"
    }
   ],
   "source": [
    "xtrain.shape, ytrain.shape"
   ]
  },
  {
   "cell_type": "code",
   "execution_count": 9,
   "id": "6babbf6a",
   "metadata": {},
   "outputs": [
    {
     "data": {
      "text/plain": [
       "array([0, 1, 2, 3, 4, 5, 6, 7, 8, 9], dtype=uint8)"
      ]
     },
     "execution_count": 9,
     "metadata": {},
     "output_type": "execute_result"
    }
   ],
   "source": [
    "labels = np.unique(ytrain)\n",
    "labels"
   ]
  },
  {
   "cell_type": "code",
   "execution_count": 10,
   "id": "9eda7e5e",
   "metadata": {},
   "outputs": [],
   "source": [
    "# one hot encoding\n",
    "num_classes = len(np.unique(ytrain))\n",
    "y_train = keras.utils.to_categorical(ytrain, num_classes)\n",
    "y_test = keras.utils.to_categorical(ytest, num_classes)"
   ]
  },
  {
   "cell_type": "code",
   "execution_count": 11,
   "id": "16c0c82d",
   "metadata": {},
   "outputs": [
    {
     "data": {
      "text/plain": [
       "((60000, 28, 28), (60000, 10))"
      ]
     },
     "execution_count": 11,
     "metadata": {},
     "output_type": "execute_result"
    }
   ],
   "source": [
    "xtrain.shape, y_train.shape"
   ]
  },
  {
   "cell_type": "markdown",
   "id": "6a161428",
   "metadata": {},
   "source": [
    "# Model Creation"
   ]
  },
  {
   "cell_type": "markdown",
   "id": "dbb78c61",
   "metadata": {},
   "source": [
    "### Convolutional Neural network"
   ]
  },
  {
   "cell_type": "code",
   "execution_count": 12,
   "id": "5fb6eb88",
   "metadata": {},
   "outputs": [],
   "source": [
    "# 5. Creating model architectire\n",
    "\n",
    "from keras.models import Sequential\n",
    "from keras.layers import Conv2D, MaxPooling2D, Flatten, Dense, Dropout"
   ]
  },
  {
   "cell_type": "code",
   "execution_count": 13,
   "id": "07c73bd2",
   "metadata": {},
   "outputs": [],
   "source": [
    "# Model creation\n",
    "cnn_model = Sequential()\n",
    "\n",
    "# Layer creation\n",
    "cnn_model.add(Conv2D(filters=16, kernel_size=3, padding='same', activation='relu', input_shape=(28,28,1)))\n",
    "cnn_model.add(MaxPooling2D(pool_size=2))\n",
    "\n",
    "cnn_model.add(Conv2D(filters=32, kernel_size=3, padding='same', activation='relu'))\n",
    "cnn_model.add(MaxPooling2D(pool_size=2))\n",
    "\n",
    "cnn_model.add(Conv2D(filters=64, kernel_size=3, padding='same', activation='relu'))\n",
    "cnn_model.add(MaxPooling2D(pool_size=2))\n",
    "\n",
    "cnn_model.add(Flatten())\n",
    "\n",
    "cnn_model.add(Dense(500, activation='relu'))\n",
    "cnn_model.add(Dropout(0.3))\n",
    "\n",
    "cnn_model.add(Dense(10, activation='softmax'))"
   ]
  },
  {
   "cell_type": "code",
   "execution_count": 14,
   "id": "e0db3c0e",
   "metadata": {},
   "outputs": [
    {
     "name": "stdout",
     "output_type": "stream",
     "text": [
      "Model: \"sequential\"\n",
      "_________________________________________________________________\n",
      " Layer (type)                Output Shape              Param #   \n",
      "=================================================================\n",
      " conv2d (Conv2D)             (None, 28, 28, 16)        160       \n",
      "                                                                 \n",
      " max_pooling2d (MaxPooling2D  (None, 14, 14, 16)       0         \n",
      " )                                                               \n",
      "                                                                 \n",
      " conv2d_1 (Conv2D)           (None, 14, 14, 32)        4640      \n",
      "                                                                 \n",
      " max_pooling2d_1 (MaxPooling  (None, 7, 7, 32)         0         \n",
      " 2D)                                                             \n",
      "                                                                 \n",
      " conv2d_2 (Conv2D)           (None, 7, 7, 64)          18496     \n",
      "                                                                 \n",
      " max_pooling2d_2 (MaxPooling  (None, 3, 3, 64)         0         \n",
      " 2D)                                                             \n",
      "                                                                 \n",
      " flatten (Flatten)           (None, 576)               0         \n",
      "                                                                 \n",
      " dense (Dense)               (None, 500)               288500    \n",
      "                                                                 \n",
      " dropout (Dropout)           (None, 500)               0         \n",
      "                                                                 \n",
      " dense_1 (Dense)             (None, 10)                5010      \n",
      "                                                                 \n",
      "=================================================================\n",
      "Total params: 316,806\n",
      "Trainable params: 316,806\n",
      "Non-trainable params: 0\n",
      "_________________________________________________________________\n"
     ]
    }
   ],
   "source": [
    "cnn_model.summary()"
   ]
  },
  {
   "cell_type": "code",
   "execution_count": 15,
   "id": "007b2998",
   "metadata": {},
   "outputs": [],
   "source": [
    "# Optimizer - weights & learning rate changes - to reduce loss\n",
    "cnn_model.compile(loss='categorical_crossentropy', optimizer = 'adam', metrics = ['accuracy'])"
   ]
  },
  {
   "cell_type": "code",
   "execution_count": 16,
   "id": "47d4a128",
   "metadata": {},
   "outputs": [],
   "source": [
    "# Checkpoint creation\n",
    "\n",
    "from keras.callbacks import ModelCheckpoint\n",
    "\n",
    "checkpoint = ModelCheckpoint(filepath = 'handwrittendigits_cnn_model.h5', verbose = 2, save_best_only=True)"
   ]
  },
  {
   "cell_type": "code",
   "execution_count": null,
   "id": "8fed573e",
   "metadata": {},
   "outputs": [
    {
     "name": "stdout",
     "output_type": "stream",
     "text": [
      "Epoch 1/10\n",
      "\n",
      "Epoch 1: val_loss improved from inf to 0.05442, saving model to handwrittendigits_cnn_model.h5\n",
      "1500/1500 - 23s - loss: 0.1746 - accuracy: 0.9449 - val_loss: 0.0544 - val_accuracy: 0.9837 - 23s/epoch - 15ms/step\n",
      "Epoch 2/10\n",
      "\n",
      "Epoch 2: val_loss improved from 0.05442 to 0.03787, saving model to handwrittendigits_cnn_model.h5\n",
      "1500/1500 - 22s - loss: 0.0553 - accuracy: 0.9825 - val_loss: 0.0379 - val_accuracy: 0.9884 - 22s/epoch - 15ms/step\n",
      "Epoch 3/10\n",
      "\n",
      "Epoch 3: val_loss improved from 0.03787 to 0.03626, saving model to handwrittendigits_cnn_model.h5\n",
      "1500/1500 - 22s - loss: 0.0391 - accuracy: 0.9877 - val_loss: 0.0363 - val_accuracy: 0.9890 - 22s/epoch - 15ms/step\n",
      "Epoch 4/10\n"
     ]
    }
   ],
   "source": [
    "# 8. Training\n",
    "\n",
    "cnn_train = cnn_model.fit(xtrain, y_train, epochs=10, \n",
    "                  validation_split=0.2, \n",
    "                  batch_size=32,\n",
    "                  callbacks=[checkpoint],\n",
    "                  verbose = 2, shuffle=True)"
   ]
  },
  {
   "cell_type": "code",
   "execution_count": null,
   "id": "4aba1bbb",
   "metadata": {},
   "outputs": [],
   "source": [
    "cnn_model.save('handwrittendigits_cnn_model.h5')"
   ]
  },
  {
   "cell_type": "markdown",
   "id": "cf289094",
   "metadata": {},
   "source": [
    "## Accuracy calculation"
   ]
  },
  {
   "cell_type": "code",
   "execution_count": null,
   "id": "065440cd",
   "metadata": {},
   "outputs": [],
   "source": [
    "def acc_loss_calc(model, xtrain, xtest, y_train, y_test):\n",
    "    tr_score = model.evaluate(xtrain, y_train, verbose=0)\n",
    "    tt_score = model.evaluate(xtest, y_test, verbose=0)\n",
    "    return ('Train score : ', tr_score, 'Test score : ', tt_score)"
   ]
  },
  {
   "cell_type": "code",
   "execution_count": null,
   "id": "a730b51b",
   "metadata": {},
   "outputs": [],
   "source": [
    "print(acc_loss_calc(cnn_model, xtrain, xtest, y_train, y_test))"
   ]
  },
  {
   "cell_type": "code",
   "execution_count": null,
   "id": "1d31a909",
   "metadata": {},
   "outputs": [],
   "source": [
    "plt.plot(cnn_train.history['loss'], label='train_loss')\n",
    "plt.plot(cnn_train.history['val_loss'], label='val_loss')\n",
    "plt.xlabel('Epoch')\n",
    "plt.ylabel('Loss Percentage')\n",
    "plt.legend()\n",
    "plt.show()"
   ]
  },
  {
   "cell_type": "code",
   "execution_count": null,
   "id": "c6917f70",
   "metadata": {},
   "outputs": [],
   "source": [
    "plt.plot(cnn_train.history['accuracy'], label='train_accuracy')\n",
    "plt.plot(cnn_train.history['val_accuracy'], label='val_accuracy')\n",
    "plt.xlabel('Epoch')\n",
    "plt.ylabel('Accuracy Percentage')\n",
    "plt.legend()\n",
    "plt.show()"
   ]
  },
  {
   "cell_type": "markdown",
   "id": "f9f07678",
   "metadata": {},
   "source": [
    "## Image visualization"
   ]
  },
  {
   "cell_type": "code",
   "execution_count": null,
   "id": "6be29449",
   "metadata": {},
   "outputs": [],
   "source": [
    "def img_visual(model, xtest, y_test):\n",
    "    ypred = model.predict(xtest)\n",
    "\n",
    "    fig = plt.figure(figsize=(20,10))\n",
    "\n",
    "    for i , idx in enumerate(np.random.choice(xtest.shape[0], size = 50, replace = True)):\n",
    "        plt.subplot(5,10, i+1, xticks=[], yticks=[])\n",
    "        plt.imshow(xtest[i], cmap='cividis')\n",
    "        pred_idx = np.argmax(ypred[i])\n",
    "        exp_idx = np.argmax(y_test[i])\n",
    "        plt.title('{} ({})'.format(labels[pred_idx], labels[exp_idx]), \n",
    "                     color=('blue' if pred_idx == exp_idx else 'red'))"
   ]
  },
  {
   "cell_type": "code",
   "execution_count": null,
   "id": "fd6b67dd",
   "metadata": {},
   "outputs": [],
   "source": [
    "img_visual(cnn_model, xtest, y_test)"
   ]
  },
  {
   "cell_type": "markdown",
   "id": "693c7178",
   "metadata": {},
   "source": [
    "## Artificial Neural Network model"
   ]
  },
  {
   "cell_type": "code",
   "execution_count": null,
   "id": "e59b4979",
   "metadata": {},
   "outputs": [],
   "source": [
    "# Model creation\n",
    "ann_model = Sequential()\n",
    "\n",
    "# Layer creation\n",
    "ann_model.add(Flatten(input_shape=(28,28,1)))\n",
    "\n",
    "ann_model.add(Dense(500, activation='relu'))\n",
    "ann_model.add(Dense(100, activation='relu'))\n",
    "ann_model.add(Dense(10, activation='softmax'))"
   ]
  },
  {
   "cell_type": "code",
   "execution_count": null,
   "id": "2e1f7a57",
   "metadata": {},
   "outputs": [],
   "source": [
    "ann_model.summary()"
   ]
  },
  {
   "cell_type": "code",
   "execution_count": null,
   "id": "238ea414",
   "metadata": {},
   "outputs": [],
   "source": [
    "# Optimizer - weights & learning rate changes - to reduce loss\n",
    "ann_model.compile(loss='categorical_crossentropy', optimizer = 'adam', metrics = ['accuracy'])"
   ]
  },
  {
   "cell_type": "code",
   "execution_count": null,
   "id": "e55b64e1",
   "metadata": {},
   "outputs": [],
   "source": [
    "# Checkpoint creation\n",
    "\n",
    "from keras.callbacks import ModelCheckpoint\n",
    "\n",
    "checkpoint = ModelCheckpoint(filepath = 'handwrittendigits_ann_model.h5', verbose = 2, save_best_only=True)"
   ]
  },
  {
   "cell_type": "code",
   "execution_count": null,
   "id": "c2b9c717",
   "metadata": {},
   "outputs": [],
   "source": [
    "# 8. Training\n",
    "\n",
    "ann_train = ann_model.fit(xtrain, y_train, epochs=10, \n",
    "                  validation_split=0.2, \n",
    "                  batch_size=32,\n",
    "                  callbacks=[checkpoint],\n",
    "                  verbose = 2, shuffle=True)"
   ]
  },
  {
   "cell_type": "code",
   "execution_count": null,
   "id": "cc8645e8",
   "metadata": {},
   "outputs": [],
   "source": [
    "ann_model.save('handwrittendigits_ann_model.h5')"
   ]
  },
  {
   "cell_type": "code",
   "execution_count": null,
   "id": "87c2fc02",
   "metadata": {},
   "outputs": [],
   "source": [
    "print(acc_loss_calc(ann_model, xtrain, xtest, y_train, y_test))"
   ]
  },
  {
   "cell_type": "code",
   "execution_count": null,
   "id": "c7822025",
   "metadata": {},
   "outputs": [],
   "source": [
    "plt.plot(ann_train.history['loss'], label='train_loss')\n",
    "plt.plot(ann_train.history['val_loss'], label='val_loss')\n",
    "plt.xlabel('Epoch')\n",
    "plt.ylabel('Loss Percentage')\n",
    "plt.show()"
   ]
  },
  {
   "cell_type": "code",
   "execution_count": null,
   "id": "2430d31e",
   "metadata": {},
   "outputs": [],
   "source": [
    "plt.plot(cnn_train.history['accuracy'], label='train_accuracy')\n",
    "plt.plot(cnn_train.history['val_accuracy'], label='val_accuracy')\n",
    "plt.xlabel('Epoch')\n",
    "plt.ylabel('Accuracy Percentage')\n",
    "plt.show()"
   ]
  },
  {
   "cell_type": "code",
   "execution_count": null,
   "id": "86c70182",
   "metadata": {},
   "outputs": [],
   "source": [
    "img_visual(ann_model, xtest, y_test)"
   ]
  },
  {
   "cell_type": "markdown",
   "id": "6978aebf",
   "metadata": {},
   "source": [
    "## K-Nearest Neighbour Model"
   ]
  },
  {
   "cell_type": "code",
   "execution_count": null,
   "id": "e37d769e",
   "metadata": {},
   "outputs": [],
   "source": [
    "from sklearn.neighbors import KNeighborsClassifier"
   ]
  },
  {
   "cell_type": "code",
   "execution_count": null,
   "id": "8f030bbe",
   "metadata": {},
   "outputs": [],
   "source": [
    "# x_train = xtrain.reshape(60000, 784)\n",
    "# x_test = xtest.reshape(10000, 784)\n",
    "\n",
    "from sklearn.datasets import fetch_openml\n",
    "from sklearn.model_selection import train_test_split\n",
    "\n",
    "# Load the MNIST dataset\n",
    "mnist = fetch_openml('mnist_784')\n",
    "\n",
    "# Split the dataset into training and test sets\n",
    "xtrain_knn, xtest_knn, ytrain_knn, ytest_knn = train_test_split(mnist['data'], mnist['target'], test_size=0.3)\n",
    "\n",
    "# Preprocess the data\n",
    "xtrain_knn = xtrain_knn.astype('float32') / 255.0\n",
    "xtest_knn = xtest_knn.astype('float32') / 255.0"
   ]
  },
  {
   "cell_type": "code",
   "execution_count": null,
   "id": "a53bad5a",
   "metadata": {},
   "outputs": [],
   "source": [
    "# x_train.shape, x_test.shape, y_train.shape, y_test.shape"
   ]
  },
  {
   "cell_type": "code",
   "execution_count": null,
   "id": "dfcbf81e",
   "metadata": {},
   "outputs": [],
   "source": [
    "# model = KNeighborsClassifier(n_neighbors = 3)\n",
    "# model.fit(x_train, y_train)\n",
    "# knn_pred = model.predict(x_test)"
   ]
  },
  {
   "cell_type": "code",
   "execution_count": null,
   "id": "ed3137e5",
   "metadata": {},
   "outputs": [],
   "source": [
    "# from sklearn.metrics import confusion_matrix, f1_score, accuracy_score, classification_report"
   ]
  },
  {
   "cell_type": "code",
   "execution_count": null,
   "id": "3deb1a28",
   "metadata": {},
   "outputs": [],
   "source": [
    "# pd.crosstab(y_test, knn_pred)"
   ]
  },
  {
   "cell_type": "code",
   "execution_count": null,
   "id": "0b459144",
   "metadata": {},
   "outputs": [],
   "source": [
    "# print(classification_report(y_test, knn_pred))"
   ]
  },
  {
   "cell_type": "code",
   "execution_count": null,
   "id": "ab787b57",
   "metadata": {},
   "outputs": [],
   "source": [
    "# print(acc_loss_calc(knn_model, x_train, x_test, y_train, y_test))"
   ]
  },
  {
   "cell_type": "code",
   "execution_count": null,
   "id": "8f92e3fe",
   "metadata": {},
   "outputs": [],
   "source": [
    "# img_visual(knn_model, x_test, y_test)"
   ]
  },
  {
   "cell_type": "markdown",
   "id": "0eed1126",
   "metadata": {},
   "source": [
    "## Support Vector Machine model"
   ]
  },
  {
   "cell_type": "code",
   "execution_count": null,
   "id": "f3720ea9",
   "metadata": {},
   "outputs": [],
   "source": [
    "from sklearn.svm import SVC\n",
    "from sklearn.metrics import confusion_matrix, classification_report"
   ]
  },
  {
   "cell_type": "code",
   "execution_count": null,
   "id": "0f7d203c",
   "metadata": {},
   "outputs": [],
   "source": [
    "svc_model = SVC(verbose=2)\n",
    "svc_model.fit(x_train, ytrain)"
   ]
  },
  {
   "cell_type": "code",
   "execution_count": null,
   "id": "2ce70d61",
   "metadata": {},
   "outputs": [],
   "source": [
    "svc_pred = svc_model.predict(x_test)"
   ]
  },
  {
   "cell_type": "code",
   "execution_count": null,
   "id": "274babf1",
   "metadata": {},
   "outputs": [],
   "source": [
    "pd.crosstab(ytest, svc_pred)"
   ]
  },
  {
   "cell_type": "code",
   "execution_count": null,
   "id": "759062ac",
   "metadata": {},
   "outputs": [],
   "source": [
    "print(classification_report(ytest, svc_pred))"
   ]
  },
  {
   "cell_type": "markdown",
   "id": "8d33897d",
   "metadata": {},
   "source": [
    "### Hyperparameter Tuning"
   ]
  },
  {
   "cell_type": "code",
   "execution_count": null,
   "id": "f052edd2",
   "metadata": {},
   "outputs": [],
   "source": [
    "from sklearn.model_selection import GridSearchCV, RandomizedSearchCV"
   ]
  },
  {
   "cell_type": "code",
   "execution_count": null,
   "id": "e0ea7a15",
   "metadata": {},
   "outputs": [],
   "source": [
    "grid = { 'C' : [0.1, 1, 10],\n",
    "          'gamma' : [0.1, 1],\n",
    "        'kernel' : ['rbf'],\n",
    "#         'max_iter' : [-1],\n",
    "        'random_state' : [10]\n",
    "#         'random_state' : (list(range(1,10)))\n",
    "}"
   ]
  },
  {
   "cell_type": "code",
   "execution_count": null,
   "id": "ea4f0fe9",
   "metadata": {},
   "outputs": [],
   "source": [
    "# svc_model1 = SVC()\n",
    "# gridcv = GridSearchCV(svc_model1, grid, refit = True, verbose = 2, scoring = 'accuracy', cv = 5, n_jobs=-1)\n",
    "# gridcv.fit(x_train,ytrain)"
   ]
  },
  {
   "cell_type": "code",
   "execution_count": null,
   "id": "eb852d00",
   "metadata": {},
   "outputs": [],
   "source": [
    "# param_dist = {\n",
    "#     'n_estimators': [10, 50, 100, 200],\n",
    "#     'max_depth': [None, 10, 20, 30],\n",
    "#     'min_samples_split': [2, 5, 10],\n",
    "#     'min_samples_leaf': [1, 2, 4],\n",
    "#     'bootstrap': [True, False],\n",
    "# }"
   ]
  },
  {
   "cell_type": "code",
   "execution_count": null,
   "id": "06f6b87b",
   "metadata": {},
   "outputs": [],
   "source": [
    "svc_model1 = SVC()\n",
    "random_search = RandomizedSearchCV(estimator=svc_model1, \n",
    "                                   param_distributions=grid, \n",
    "                                   n_iter=5, \n",
    "                                   cv=5, \n",
    "                                   scoring = 'accuracy',\n",
    "                                   verbose = 2,\n",
    "                                   n_jobs=-1)\n",
    "random_search.fit(x_train, ytrain)"
   ]
  },
  {
   "cell_type": "code",
   "execution_count": null,
   "id": "70f905a2",
   "metadata": {},
   "outputs": [],
   "source": []
  }
 ],
 "metadata": {
  "kernelspec": {
   "display_name": "Python 3 (ipykernel)",
   "language": "python",
   "name": "python3"
  },
  "language_info": {
   "codemirror_mode": {
    "name": "ipython",
    "version": 3
   },
   "file_extension": ".py",
   "mimetype": "text/x-python",
   "name": "python",
   "nbconvert_exporter": "python",
   "pygments_lexer": "ipython3",
   "version": "3.9.12"
  }
 },
 "nbformat": 4,
 "nbformat_minor": 5
}
